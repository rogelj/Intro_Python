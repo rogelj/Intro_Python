{
  "cells": [
    {
      "cell_type": "markdown",
      "source": [
        "# Intro to Python - Guided Practice"
      ],
      "metadata": {}
    },
    {
      "cell_type": "markdown",
      "source": [
        "Dr J Rogel-Salazar\n"
      ],
      "metadata": {}
    },
    {
      "cell_type": "markdown",
      "source": [
        "Imagine that after you are working as a sales analyst for a brand with presence in the US.\n",
        "\n",
        "You are asked to look at regional sales data from your vendors and you want to use your newly acquired Python skills...\n",
        "\n",
        "For this guided practice we will create some fake data related to the average income and population of some cities in the US. \n",
        "\n",
        "We will apply the python knowledge we have acquired and see how some popular modules such as pandas, numpy and matplotlib are used."
      ],
      "metadata": {}
    },
    {
      "cell_type": "markdown",
      "source": [
        "# Importing packages and modules\n",
        "\n",
        "Let us start by importing packages and modules that will be used in this practice.\n",
        "\n",
        "We will make use of a functions to calculate the average. This is included in the NumPy module.\n",
        "\n",
        "Also we will use pandas to manipulate data organised in a table format. We call this a *dataframe*."
      ],
      "metadata": {}
    },
    {
      "cell_type": "code",
      "source": [
        "import numpy as np\n",
        "import pandas as pd"
      ],
      "outputs": [],
      "execution_count": 1,
      "metadata": {}
    },
    {
      "cell_type": "markdown",
      "source": [
        "Let us define some lists that can be used to create a pandas dataframe. Let us start by listing the different cities we are interested in:\n"
      ],
      "metadata": {}
    },
    {
      "cell_type": "code",
      "source": [
        "cities  = pd.Series(['Atlanta','Lilburn','Athens',\n",
        "                     'Auburn','Augusta','NYC','Buffalo','Albany',\n",
        "                     'Miami','Tallahassee'])"
      ],
      "outputs": [],
      "execution_count": 2,
      "metadata": {}
    },
    {
      "cell_type": "markdown",
      "source": [
        "Now the states where these cities are:"
      ],
      "metadata": {}
    },
    {
      "cell_type": "code",
      "source": [
        "states = pd.Series(['GA','GA','GA','GA','GA',\n",
        "         \n",
        "                    \"NY\",\"NY\",\"NY\",\"FL\",\"FL\"])"
      ],
      "outputs": [],
      "execution_count": 3,
      "metadata": {}
    },
    {
      "cell_type": "markdown",
      "source": [
        "Let us now list the average income and population for the cities in question:"
      ],
      "metadata": {}
    },
    {
      "cell_type": "code",
      "source": [
        "city_avg_incomes = pd.Series([55000,40000,50000,45000,\n",
        "                              30000,60000,57000,56000,65000,40000])\n",
        "\n",
        "city_populations = pd.Series([5000000,250000,100000,\n",
        "                              50000, 200000,6000000,3000000,400000,\n",
        "                              4000000,5000000])"
      ],
      "outputs": [],
      "execution_count": 4,
      "metadata": {}
    },
    {
      "cell_type": "markdown",
      "source": [
        "### Question\n",
        "\n",
        "Have you noticed that we are using lists to create the series expected by pandas?"
      ],
      "metadata": {}
    },
    {
      "cell_type": "markdown",
      "source": [
        "# Pandas dataframe"
      ],
      "metadata": {}
    },
    {
      "cell_type": "markdown",
      "source": [
        "We are now ready to put all the information above in a single dataframe:\n"
      ],
      "metadata": {}
    },
    {
      "cell_type": "code",
      "source": [
        "city_table = pd.DataFrame( {'cities': cities,  \n",
        "             'states': states,\n",
        "             'city_avg_incomes':city_avg_incomes,\n",
        "             'city_populations':city_populations\n",
        "              } )"
      ],
      "outputs": [],
      "execution_count": 5,
      "metadata": {}
    },
    {
      "cell_type": "code",
      "source": [
        "city_table"
      ],
      "outputs": [
        {
          "output_type": "execute_result",
          "execution_count": 6,
          "data": {
            "text/plain": [
              "        cities states  city_avg_incomes  city_populations\n",
              "0      Atlanta     GA             55000           5000000\n",
              "1      Lilburn     GA             40000            250000\n",
              "2       Athens     GA             50000            100000\n",
              "3       Auburn     GA             45000             50000\n",
              "4      Augusta     GA             30000            200000\n",
              "5          NYC     NY             60000           6000000\n",
              "6      Buffalo     NY             57000           3000000\n",
              "7       Albany     NY             56000            400000\n",
              "8        Miami     FL             65000           4000000\n",
              "9  Tallahassee     FL             40000           5000000"
            ],
            "text/html": [
              "<div>\n",
              "<style scoped>\n",
              "    .dataframe tbody tr th:only-of-type {\n",
              "        vertical-align: middle;\n",
              "    }\n",
              "\n",
              "    .dataframe tbody tr th {\n",
              "        vertical-align: top;\n",
              "    }\n",
              "\n",
              "    .dataframe thead th {\n",
              "        text-align: right;\n",
              "    }\n",
              "</style>\n",
              "<table border=\"1\" class=\"dataframe\">\n",
              "  <thead>\n",
              "    <tr style=\"text-align: right;\">\n",
              "      <th></th>\n",
              "      <th>cities</th>\n",
              "      <th>states</th>\n",
              "      <th>city_avg_incomes</th>\n",
              "      <th>city_populations</th>\n",
              "    </tr>\n",
              "  </thead>\n",
              "  <tbody>\n",
              "    <tr>\n",
              "      <th>0</th>\n",
              "      <td>Atlanta</td>\n",
              "      <td>GA</td>\n",
              "      <td>55000</td>\n",
              "      <td>5000000</td>\n",
              "    </tr>\n",
              "    <tr>\n",
              "      <th>1</th>\n",
              "      <td>Lilburn</td>\n",
              "      <td>GA</td>\n",
              "      <td>40000</td>\n",
              "      <td>250000</td>\n",
              "    </tr>\n",
              "    <tr>\n",
              "      <th>2</th>\n",
              "      <td>Athens</td>\n",
              "      <td>GA</td>\n",
              "      <td>50000</td>\n",
              "      <td>100000</td>\n",
              "    </tr>\n",
              "    <tr>\n",
              "      <th>3</th>\n",
              "      <td>Auburn</td>\n",
              "      <td>GA</td>\n",
              "      <td>45000</td>\n",
              "      <td>50000</td>\n",
              "    </tr>\n",
              "    <tr>\n",
              "      <th>4</th>\n",
              "      <td>Augusta</td>\n",
              "      <td>GA</td>\n",
              "      <td>30000</td>\n",
              "      <td>200000</td>\n",
              "    </tr>\n",
              "    <tr>\n",
              "      <th>5</th>\n",
              "      <td>NYC</td>\n",
              "      <td>NY</td>\n",
              "      <td>60000</td>\n",
              "      <td>6000000</td>\n",
              "    </tr>\n",
              "    <tr>\n",
              "      <th>6</th>\n",
              "      <td>Buffalo</td>\n",
              "      <td>NY</td>\n",
              "      <td>57000</td>\n",
              "      <td>3000000</td>\n",
              "    </tr>\n",
              "    <tr>\n",
              "      <th>7</th>\n",
              "      <td>Albany</td>\n",
              "      <td>NY</td>\n",
              "      <td>56000</td>\n",
              "      <td>400000</td>\n",
              "    </tr>\n",
              "    <tr>\n",
              "      <th>8</th>\n",
              "      <td>Miami</td>\n",
              "      <td>FL</td>\n",
              "      <td>65000</td>\n",
              "      <td>4000000</td>\n",
              "    </tr>\n",
              "    <tr>\n",
              "      <th>9</th>\n",
              "      <td>Tallahassee</td>\n",
              "      <td>FL</td>\n",
              "      <td>40000</td>\n",
              "      <td>5000000</td>\n",
              "    </tr>\n",
              "  </tbody>\n",
              "</table>\n",
              "</div>"
            ]
          },
          "metadata": {}
        }
      ],
      "execution_count": 6,
      "metadata": {}
    },
    {
      "cell_type": "markdown",
      "source": [
        "### Question\n",
        "\n",
        "Do you remember what is the syntax to define a dictionary in Python?"
      ],
      "metadata": {}
    },
    {
      "cell_type": "markdown",
      "source": [
        "# Looking at the Dataframe"
      ],
      "metadata": {}
    },
    {
      "cell_type": "markdown",
      "source": [
        "Let us take a look at the first 5 entries:"
      ],
      "metadata": {}
    },
    {
      "cell_type": "code",
      "source": [
        "city_table.head(7)"
      ],
      "outputs": [
        {
          "output_type": "execute_result",
          "execution_count": 7,
          "data": {
            "text/plain": [
              "    cities states  city_avg_incomes  city_populations\n",
              "0  Atlanta     GA             55000           5000000\n",
              "1  Lilburn     GA             40000            250000\n",
              "2   Athens     GA             50000            100000\n",
              "3   Auburn     GA             45000             50000\n",
              "4  Augusta     GA             30000            200000\n",
              "5      NYC     NY             60000           6000000\n",
              "6  Buffalo     NY             57000           3000000"
            ],
            "text/html": [
              "<div>\n",
              "<style scoped>\n",
              "    .dataframe tbody tr th:only-of-type {\n",
              "        vertical-align: middle;\n",
              "    }\n",
              "\n",
              "    .dataframe tbody tr th {\n",
              "        vertical-align: top;\n",
              "    }\n",
              "\n",
              "    .dataframe thead th {\n",
              "        text-align: right;\n",
              "    }\n",
              "</style>\n",
              "<table border=\"1\" class=\"dataframe\">\n",
              "  <thead>\n",
              "    <tr style=\"text-align: right;\">\n",
              "      <th></th>\n",
              "      <th>cities</th>\n",
              "      <th>states</th>\n",
              "      <th>city_avg_incomes</th>\n",
              "      <th>city_populations</th>\n",
              "    </tr>\n",
              "  </thead>\n",
              "  <tbody>\n",
              "    <tr>\n",
              "      <th>0</th>\n",
              "      <td>Atlanta</td>\n",
              "      <td>GA</td>\n",
              "      <td>55000</td>\n",
              "      <td>5000000</td>\n",
              "    </tr>\n",
              "    <tr>\n",
              "      <th>1</th>\n",
              "      <td>Lilburn</td>\n",
              "      <td>GA</td>\n",
              "      <td>40000</td>\n",
              "      <td>250000</td>\n",
              "    </tr>\n",
              "    <tr>\n",
              "      <th>2</th>\n",
              "      <td>Athens</td>\n",
              "      <td>GA</td>\n",
              "      <td>50000</td>\n",
              "      <td>100000</td>\n",
              "    </tr>\n",
              "    <tr>\n",
              "      <th>3</th>\n",
              "      <td>Auburn</td>\n",
              "      <td>GA</td>\n",
              "      <td>45000</td>\n",
              "      <td>50000</td>\n",
              "    </tr>\n",
              "    <tr>\n",
              "      <th>4</th>\n",
              "      <td>Augusta</td>\n",
              "      <td>GA</td>\n",
              "      <td>30000</td>\n",
              "      <td>200000</td>\n",
              "    </tr>\n",
              "    <tr>\n",
              "      <th>5</th>\n",
              "      <td>NYC</td>\n",
              "      <td>NY</td>\n",
              "      <td>60000</td>\n",
              "      <td>6000000</td>\n",
              "    </tr>\n",
              "    <tr>\n",
              "      <th>6</th>\n",
              "      <td>Buffalo</td>\n",
              "      <td>NY</td>\n",
              "      <td>57000</td>\n",
              "      <td>3000000</td>\n",
              "    </tr>\n",
              "  </tbody>\n",
              "</table>\n",
              "</div>"
            ]
          },
          "metadata": {}
        }
      ],
      "execution_count": 7,
      "metadata": {}
    },
    {
      "cell_type": "markdown",
      "source": [
        "# Manipulating the data "
      ],
      "metadata": {}
    },
    {
      "cell_type": "markdown",
      "source": [
        "We can create a column to state the population in millions and another one for the income in thousands. \n",
        "\n",
        "Let us define a function that formats a number in terms of millions\n",
        "\n",
        "### Question\n",
        "\n",
        "Do you remember how to define a function in Python?"
      ],
      "metadata": {}
    },
    {
      "cell_type": "code",
      "source": [
        "def FormatMillions(x):\n",
        "    return float(x)/1000000.0"
      ],
      "outputs": [],
      "execution_count": 8,
      "metadata": {}
    },
    {
      "cell_type": "markdown",
      "source": [
        "We can now \"apply\" this function to one of the columns of our dataframe to create a new column:"
      ],
      "metadata": {}
    },
    {
      "cell_type": "code",
      "source": [
        "city_table['pop_in_millions'] = city_table['city_populations'].apply(FormatMillions)"
      ],
      "outputs": [],
      "execution_count": 9,
      "metadata": {}
    },
    {
      "cell_type": "markdown",
      "source": [
        "Let us do something similar for the incomes, but format the numbers in terms of thousands. "
      ],
      "metadata": {}
    },
    {
      "cell_type": "code",
      "source": [
        "def FormatThousands(x):\n",
        "    return float(x)/1000.0"
      ],
      "outputs": [],
      "execution_count": 10,
      "metadata": {}
    },
    {
      "cell_type": "code",
      "source": [
        "city_table['income_in_k'] =city_table['city_avg_incomes'].apply(FormatThousands)"
      ],
      "outputs": [],
      "execution_count": 11,
      "metadata": {}
    },
    {
      "cell_type": "markdown",
      "source": [
        "Let us see the result:"
      ],
      "metadata": {}
    },
    {
      "cell_type": "code",
      "source": [
        "city_table.head()"
      ],
      "outputs": [
        {
          "output_type": "execute_result",
          "execution_count": 12,
          "data": {
            "text/plain": [
              "    cities states  city_avg_incomes  city_populations  pop_in_millions  \\\n",
              "0  Atlanta     GA             55000           5000000             5.00   \n",
              "1  Lilburn     GA             40000            250000             0.25   \n",
              "2   Athens     GA             50000            100000             0.10   \n",
              "3   Auburn     GA             45000             50000             0.05   \n",
              "4  Augusta     GA             30000            200000             0.20   \n",
              "\n",
              "   income_in_k  \n",
              "0         55.0  \n",
              "1         40.0  \n",
              "2         50.0  \n",
              "3         45.0  \n",
              "4         30.0  "
            ],
            "text/html": [
              "<div>\n",
              "<style scoped>\n",
              "    .dataframe tbody tr th:only-of-type {\n",
              "        vertical-align: middle;\n",
              "    }\n",
              "\n",
              "    .dataframe tbody tr th {\n",
              "        vertical-align: top;\n",
              "    }\n",
              "\n",
              "    .dataframe thead th {\n",
              "        text-align: right;\n",
              "    }\n",
              "</style>\n",
              "<table border=\"1\" class=\"dataframe\">\n",
              "  <thead>\n",
              "    <tr style=\"text-align: right;\">\n",
              "      <th></th>\n",
              "      <th>cities</th>\n",
              "      <th>states</th>\n",
              "      <th>city_avg_incomes</th>\n",
              "      <th>city_populations</th>\n",
              "      <th>pop_in_millions</th>\n",
              "      <th>income_in_k</th>\n",
              "    </tr>\n",
              "  </thead>\n",
              "  <tbody>\n",
              "    <tr>\n",
              "      <th>0</th>\n",
              "      <td>Atlanta</td>\n",
              "      <td>GA</td>\n",
              "      <td>55000</td>\n",
              "      <td>5000000</td>\n",
              "      <td>5.00</td>\n",
              "      <td>55.0</td>\n",
              "    </tr>\n",
              "    <tr>\n",
              "      <th>1</th>\n",
              "      <td>Lilburn</td>\n",
              "      <td>GA</td>\n",
              "      <td>40000</td>\n",
              "      <td>250000</td>\n",
              "      <td>0.25</td>\n",
              "      <td>40.0</td>\n",
              "    </tr>\n",
              "    <tr>\n",
              "      <th>2</th>\n",
              "      <td>Athens</td>\n",
              "      <td>GA</td>\n",
              "      <td>50000</td>\n",
              "      <td>100000</td>\n",
              "      <td>0.10</td>\n",
              "      <td>50.0</td>\n",
              "    </tr>\n",
              "    <tr>\n",
              "      <th>3</th>\n",
              "      <td>Auburn</td>\n",
              "      <td>GA</td>\n",
              "      <td>45000</td>\n",
              "      <td>50000</td>\n",
              "      <td>0.05</td>\n",
              "      <td>45.0</td>\n",
              "    </tr>\n",
              "    <tr>\n",
              "      <th>4</th>\n",
              "      <td>Augusta</td>\n",
              "      <td>GA</td>\n",
              "      <td>30000</td>\n",
              "      <td>200000</td>\n",
              "      <td>0.20</td>\n",
              "      <td>30.0</td>\n",
              "    </tr>\n",
              "  </tbody>\n",
              "</table>\n",
              "</div>"
            ]
          },
          "metadata": {}
        }
      ],
      "execution_count": 12,
      "metadata": {}
    },
    {
      "cell_type": "markdown",
      "source": [
        "### Question\n",
        "\n",
        "Why do you think are the functions above useful for?"
      ],
      "metadata": {}
    },
    {
      "cell_type": "markdown",
      "source": [
        "# Data undestanding"
      ],
      "metadata": {}
    },
    {
      "cell_type": "markdown",
      "source": [
        "How many columns and rows do we have in the dataframe?"
      ],
      "metadata": {}
    },
    {
      "cell_type": "code",
      "source": [
        "city_table.shape"
      ],
      "outputs": [
        {
          "output_type": "execute_result",
          "execution_count": 13,
          "data": {
            "text/plain": [
              "(10, 6)"
            ]
          },
          "metadata": {}
        }
      ],
      "execution_count": 13,
      "metadata": {}
    },
    {
      "cell_type": "markdown",
      "source": [
        "We have 10 records (rows) and 6 fields (columns)"
      ],
      "metadata": {}
    },
    {
      "cell_type": "markdown",
      "source": [
        "Let us select some of the data points. For instance the first 4 entreos for population and income."
      ],
      "metadata": {}
    },
    {
      "cell_type": "code",
      "source": [
        "city_table[0:4][[\"pop_in_millions\",'income_in_k']]"
      ],
      "outputs": [
        {
          "output_type": "execute_result",
          "execution_count": 14,
          "data": {
            "text/plain": [
              "   pop_in_millions  income_in_k\n",
              "0             5.00         55.0\n",
              "1             0.25         40.0\n",
              "2             0.10         50.0\n",
              "3             0.05         45.0"
            ],
            "text/html": [
              "<div>\n",
              "<style scoped>\n",
              "    .dataframe tbody tr th:only-of-type {\n",
              "        vertical-align: middle;\n",
              "    }\n",
              "\n",
              "    .dataframe tbody tr th {\n",
              "        vertical-align: top;\n",
              "    }\n",
              "\n",
              "    .dataframe thead th {\n",
              "        text-align: right;\n",
              "    }\n",
              "</style>\n",
              "<table border=\"1\" class=\"dataframe\">\n",
              "  <thead>\n",
              "    <tr style=\"text-align: right;\">\n",
              "      <th></th>\n",
              "      <th>pop_in_millions</th>\n",
              "      <th>income_in_k</th>\n",
              "    </tr>\n",
              "  </thead>\n",
              "  <tbody>\n",
              "    <tr>\n",
              "      <th>0</th>\n",
              "      <td>5.00</td>\n",
              "      <td>55.0</td>\n",
              "    </tr>\n",
              "    <tr>\n",
              "      <th>1</th>\n",
              "      <td>0.25</td>\n",
              "      <td>40.0</td>\n",
              "    </tr>\n",
              "    <tr>\n",
              "      <th>2</th>\n",
              "      <td>0.10</td>\n",
              "      <td>50.0</td>\n",
              "    </tr>\n",
              "    <tr>\n",
              "      <th>3</th>\n",
              "      <td>0.05</td>\n",
              "      <td>45.0</td>\n",
              "    </tr>\n",
              "  </tbody>\n",
              "</table>\n",
              "</div>"
            ]
          },
          "metadata": {}
        }
      ],
      "execution_count": 14,
      "metadata": {}
    },
    {
      "cell_type": "markdown",
      "source": [
        "We can select some data based on conditionals. For instance let us show only those records where the income is greater than 30l.§"
      ],
      "metadata": {}
    },
    {
      "cell_type": "code",
      "source": [
        "city_table[(city_table['income_in_k']<=30)]"
      ],
      "outputs": [
        {
          "output_type": "execute_result",
          "execution_count": 15,
          "data": {
            "text/plain": [
              "    cities states  city_avg_incomes  city_populations  pop_in_millions  \\\n",
              "4  Augusta     GA             30000            200000              0.2   \n",
              "\n",
              "   income_in_k  \n",
              "4         30.0  "
            ],
            "text/html": [
              "<div>\n",
              "<style scoped>\n",
              "    .dataframe tbody tr th:only-of-type {\n",
              "        vertical-align: middle;\n",
              "    }\n",
              "\n",
              "    .dataframe tbody tr th {\n",
              "        vertical-align: top;\n",
              "    }\n",
              "\n",
              "    .dataframe thead th {\n",
              "        text-align: right;\n",
              "    }\n",
              "</style>\n",
              "<table border=\"1\" class=\"dataframe\">\n",
              "  <thead>\n",
              "    <tr style=\"text-align: right;\">\n",
              "      <th></th>\n",
              "      <th>cities</th>\n",
              "      <th>states</th>\n",
              "      <th>city_avg_incomes</th>\n",
              "      <th>city_populations</th>\n",
              "      <th>pop_in_millions</th>\n",
              "      <th>income_in_k</th>\n",
              "    </tr>\n",
              "  </thead>\n",
              "  <tbody>\n",
              "    <tr>\n",
              "      <th>4</th>\n",
              "      <td>Augusta</td>\n",
              "      <td>GA</td>\n",
              "      <td>30000</td>\n",
              "      <td>200000</td>\n",
              "      <td>0.2</td>\n",
              "      <td>30.0</td>\n",
              "    </tr>\n",
              "  </tbody>\n",
              "</table>\n",
              "</div>"
            ]
          },
          "metadata": {}
        }
      ],
      "execution_count": 15,
      "metadata": {}
    },
    {
      "cell_type": "markdown",
      "source": [
        "As we can see, only Augusta meets the condition."
      ],
      "metadata": {}
    },
    {
      "cell_type": "markdown",
      "source": [
        "We can order the data. Let us order the dataframe in descending order by the population in millions."
      ],
      "metadata": {}
    },
    {
      "cell_type": "code",
      "source": [
        "city_table.sort_values('pop_in_millions', ascending=0)"
      ],
      "outputs": [
        {
          "output_type": "execute_result",
          "execution_count": 16,
          "data": {
            "text/plain": [
              "        cities states  city_avg_incomes  city_populations  pop_in_millions  \\\n",
              "5          NYC     NY             60000           6000000             6.00   \n",
              "0      Atlanta     GA             55000           5000000             5.00   \n",
              "9  Tallahassee     FL             40000           5000000             5.00   \n",
              "8        Miami     FL             65000           4000000             4.00   \n",
              "6      Buffalo     NY             57000           3000000             3.00   \n",
              "7       Albany     NY             56000            400000             0.40   \n",
              "1      Lilburn     GA             40000            250000             0.25   \n",
              "4      Augusta     GA             30000            200000             0.20   \n",
              "2       Athens     GA             50000            100000             0.10   \n",
              "3       Auburn     GA             45000             50000             0.05   \n",
              "\n",
              "   income_in_k  \n",
              "5         60.0  \n",
              "0         55.0  \n",
              "9         40.0  \n",
              "8         65.0  \n",
              "6         57.0  \n",
              "7         56.0  \n",
              "1         40.0  \n",
              "4         30.0  \n",
              "2         50.0  \n",
              "3         45.0  "
            ],
            "text/html": [
              "<div>\n",
              "<style scoped>\n",
              "    .dataframe tbody tr th:only-of-type {\n",
              "        vertical-align: middle;\n",
              "    }\n",
              "\n",
              "    .dataframe tbody tr th {\n",
              "        vertical-align: top;\n",
              "    }\n",
              "\n",
              "    .dataframe thead th {\n",
              "        text-align: right;\n",
              "    }\n",
              "</style>\n",
              "<table border=\"1\" class=\"dataframe\">\n",
              "  <thead>\n",
              "    <tr style=\"text-align: right;\">\n",
              "      <th></th>\n",
              "      <th>cities</th>\n",
              "      <th>states</th>\n",
              "      <th>city_avg_incomes</th>\n",
              "      <th>city_populations</th>\n",
              "      <th>pop_in_millions</th>\n",
              "      <th>income_in_k</th>\n",
              "    </tr>\n",
              "  </thead>\n",
              "  <tbody>\n",
              "    <tr>\n",
              "      <th>5</th>\n",
              "      <td>NYC</td>\n",
              "      <td>NY</td>\n",
              "      <td>60000</td>\n",
              "      <td>6000000</td>\n",
              "      <td>6.00</td>\n",
              "      <td>60.0</td>\n",
              "    </tr>\n",
              "    <tr>\n",
              "      <th>0</th>\n",
              "      <td>Atlanta</td>\n",
              "      <td>GA</td>\n",
              "      <td>55000</td>\n",
              "      <td>5000000</td>\n",
              "      <td>5.00</td>\n",
              "      <td>55.0</td>\n",
              "    </tr>\n",
              "    <tr>\n",
              "      <th>9</th>\n",
              "      <td>Tallahassee</td>\n",
              "      <td>FL</td>\n",
              "      <td>40000</td>\n",
              "      <td>5000000</td>\n",
              "      <td>5.00</td>\n",
              "      <td>40.0</td>\n",
              "    </tr>\n",
              "    <tr>\n",
              "      <th>8</th>\n",
              "      <td>Miami</td>\n",
              "      <td>FL</td>\n",
              "      <td>65000</td>\n",
              "      <td>4000000</td>\n",
              "      <td>4.00</td>\n",
              "      <td>65.0</td>\n",
              "    </tr>\n",
              "    <tr>\n",
              "      <th>6</th>\n",
              "      <td>Buffalo</td>\n",
              "      <td>NY</td>\n",
              "      <td>57000</td>\n",
              "      <td>3000000</td>\n",
              "      <td>3.00</td>\n",
              "      <td>57.0</td>\n",
              "    </tr>\n",
              "    <tr>\n",
              "      <th>7</th>\n",
              "      <td>Albany</td>\n",
              "      <td>NY</td>\n",
              "      <td>56000</td>\n",
              "      <td>400000</td>\n",
              "      <td>0.40</td>\n",
              "      <td>56.0</td>\n",
              "    </tr>\n",
              "    <tr>\n",
              "      <th>1</th>\n",
              "      <td>Lilburn</td>\n",
              "      <td>GA</td>\n",
              "      <td>40000</td>\n",
              "      <td>250000</td>\n",
              "      <td>0.25</td>\n",
              "      <td>40.0</td>\n",
              "    </tr>\n",
              "    <tr>\n",
              "      <th>4</th>\n",
              "      <td>Augusta</td>\n",
              "      <td>GA</td>\n",
              "      <td>30000</td>\n",
              "      <td>200000</td>\n",
              "      <td>0.20</td>\n",
              "      <td>30.0</td>\n",
              "    </tr>\n",
              "    <tr>\n",
              "      <th>2</th>\n",
              "      <td>Athens</td>\n",
              "      <td>GA</td>\n",
              "      <td>50000</td>\n",
              "      <td>100000</td>\n",
              "      <td>0.10</td>\n",
              "      <td>50.0</td>\n",
              "    </tr>\n",
              "    <tr>\n",
              "      <th>3</th>\n",
              "      <td>Auburn</td>\n",
              "      <td>GA</td>\n",
              "      <td>45000</td>\n",
              "      <td>50000</td>\n",
              "      <td>0.05</td>\n",
              "      <td>45.0</td>\n",
              "    </tr>\n",
              "  </tbody>\n",
              "</table>\n",
              "</div>"
            ]
          },
          "metadata": {}
        }
      ],
      "execution_count": 16,
      "metadata": {}
    },
    {
      "cell_type": "markdown",
      "source": [
        "Finally, let us get a description of each of the numeric fields in the dataframe. We will be able to see the following statistics:\n",
        "\n",
        "- count of records\n",
        "- mean\n",
        "- standard deviation\n",
        "- minimum and maximum values\n",
        "- percentiles"
      ],
      "metadata": {}
    },
    {
      "cell_type": "code",
      "source": [
        "city_table.describe()"
      ],
      "outputs": [
        {
          "output_type": "execute_result",
          "execution_count": 17,
          "data": {
            "text/plain": [
              "       city_avg_incomes  city_populations  pop_in_millions  income_in_k\n",
              "count          10.00000      1.000000e+01        10.000000    10.000000\n",
              "mean        49800.00000      2.400000e+06         2.400000    49.800000\n",
              "std         10850.49922      2.442107e+06         2.442107    10.850499\n",
              "min         30000.00000      5.000000e+04         0.050000    30.000000\n",
              "25%         41250.00000      2.125000e+05         0.212500    41.250000\n",
              "50%         52500.00000      1.700000e+06         1.700000    52.500000\n",
              "75%         56750.00000      4.750000e+06         4.750000    56.750000\n",
              "max         65000.00000      6.000000e+06         6.000000    65.000000"
            ],
            "text/html": [
              "<div>\n",
              "<style scoped>\n",
              "    .dataframe tbody tr th:only-of-type {\n",
              "        vertical-align: middle;\n",
              "    }\n",
              "\n",
              "    .dataframe tbody tr th {\n",
              "        vertical-align: top;\n",
              "    }\n",
              "\n",
              "    .dataframe thead th {\n",
              "        text-align: right;\n",
              "    }\n",
              "</style>\n",
              "<table border=\"1\" class=\"dataframe\">\n",
              "  <thead>\n",
              "    <tr style=\"text-align: right;\">\n",
              "      <th></th>\n",
              "      <th>city_avg_incomes</th>\n",
              "      <th>city_populations</th>\n",
              "      <th>pop_in_millions</th>\n",
              "      <th>income_in_k</th>\n",
              "    </tr>\n",
              "  </thead>\n",
              "  <tbody>\n",
              "    <tr>\n",
              "      <th>count</th>\n",
              "      <td>10.00000</td>\n",
              "      <td>1.000000e+01</td>\n",
              "      <td>10.000000</td>\n",
              "      <td>10.000000</td>\n",
              "    </tr>\n",
              "    <tr>\n",
              "      <th>mean</th>\n",
              "      <td>49800.00000</td>\n",
              "      <td>2.400000e+06</td>\n",
              "      <td>2.400000</td>\n",
              "      <td>49.800000</td>\n",
              "    </tr>\n",
              "    <tr>\n",
              "      <th>std</th>\n",
              "      <td>10850.49922</td>\n",
              "      <td>2.442107e+06</td>\n",
              "      <td>2.442107</td>\n",
              "      <td>10.850499</td>\n",
              "    </tr>\n",
              "    <tr>\n",
              "      <th>min</th>\n",
              "      <td>30000.00000</td>\n",
              "      <td>5.000000e+04</td>\n",
              "      <td>0.050000</td>\n",
              "      <td>30.000000</td>\n",
              "    </tr>\n",
              "    <tr>\n",
              "      <th>25%</th>\n",
              "      <td>41250.00000</td>\n",
              "      <td>2.125000e+05</td>\n",
              "      <td>0.212500</td>\n",
              "      <td>41.250000</td>\n",
              "    </tr>\n",
              "    <tr>\n",
              "      <th>50%</th>\n",
              "      <td>52500.00000</td>\n",
              "      <td>1.700000e+06</td>\n",
              "      <td>1.700000</td>\n",
              "      <td>52.500000</td>\n",
              "    </tr>\n",
              "    <tr>\n",
              "      <th>75%</th>\n",
              "      <td>56750.00000</td>\n",
              "      <td>4.750000e+06</td>\n",
              "      <td>4.750000</td>\n",
              "      <td>56.750000</td>\n",
              "    </tr>\n",
              "    <tr>\n",
              "      <th>max</th>\n",
              "      <td>65000.00000</td>\n",
              "      <td>6.000000e+06</td>\n",
              "      <td>6.000000</td>\n",
              "      <td>65.000000</td>\n",
              "    </tr>\n",
              "  </tbody>\n",
              "</table>\n",
              "</div>"
            ]
          },
          "metadata": {}
        }
      ],
      "execution_count": 17,
      "metadata": {}
    },
    {
      "cell_type": "code",
      "source": [
        "city_table"
      ],
      "outputs": [
        {
          "output_type": "execute_result",
          "execution_count": 18,
          "data": {
            "text/plain": [
              "        cities states  city_avg_incomes  city_populations  pop_in_millions  \\\n",
              "0      Atlanta     GA             55000           5000000             5.00   \n",
              "1      Lilburn     GA             40000            250000             0.25   \n",
              "2       Athens     GA             50000            100000             0.10   \n",
              "3       Auburn     GA             45000             50000             0.05   \n",
              "4      Augusta     GA             30000            200000             0.20   \n",
              "5          NYC     NY             60000           6000000             6.00   \n",
              "6      Buffalo     NY             57000           3000000             3.00   \n",
              "7       Albany     NY             56000            400000             0.40   \n",
              "8        Miami     FL             65000           4000000             4.00   \n",
              "9  Tallahassee     FL             40000           5000000             5.00   \n",
              "\n",
              "   income_in_k  \n",
              "0         55.0  \n",
              "1         40.0  \n",
              "2         50.0  \n",
              "3         45.0  \n",
              "4         30.0  \n",
              "5         60.0  \n",
              "6         57.0  \n",
              "7         56.0  \n",
              "8         65.0  \n",
              "9         40.0  "
            ],
            "text/html": [
              "<div>\n",
              "<style scoped>\n",
              "    .dataframe tbody tr th:only-of-type {\n",
              "        vertical-align: middle;\n",
              "    }\n",
              "\n",
              "    .dataframe tbody tr th {\n",
              "        vertical-align: top;\n",
              "    }\n",
              "\n",
              "    .dataframe thead th {\n",
              "        text-align: right;\n",
              "    }\n",
              "</style>\n",
              "<table border=\"1\" class=\"dataframe\">\n",
              "  <thead>\n",
              "    <tr style=\"text-align: right;\">\n",
              "      <th></th>\n",
              "      <th>cities</th>\n",
              "      <th>states</th>\n",
              "      <th>city_avg_incomes</th>\n",
              "      <th>city_populations</th>\n",
              "      <th>pop_in_millions</th>\n",
              "      <th>income_in_k</th>\n",
              "    </tr>\n",
              "  </thead>\n",
              "  <tbody>\n",
              "    <tr>\n",
              "      <th>0</th>\n",
              "      <td>Atlanta</td>\n",
              "      <td>GA</td>\n",
              "      <td>55000</td>\n",
              "      <td>5000000</td>\n",
              "      <td>5.00</td>\n",
              "      <td>55.0</td>\n",
              "    </tr>\n",
              "    <tr>\n",
              "      <th>1</th>\n",
              "      <td>Lilburn</td>\n",
              "      <td>GA</td>\n",
              "      <td>40000</td>\n",
              "      <td>250000</td>\n",
              "      <td>0.25</td>\n",
              "      <td>40.0</td>\n",
              "    </tr>\n",
              "    <tr>\n",
              "      <th>2</th>\n",
              "      <td>Athens</td>\n",
              "      <td>GA</td>\n",
              "      <td>50000</td>\n",
              "      <td>100000</td>\n",
              "      <td>0.10</td>\n",
              "      <td>50.0</td>\n",
              "    </tr>\n",
              "    <tr>\n",
              "      <th>3</th>\n",
              "      <td>Auburn</td>\n",
              "      <td>GA</td>\n",
              "      <td>45000</td>\n",
              "      <td>50000</td>\n",
              "      <td>0.05</td>\n",
              "      <td>45.0</td>\n",
              "    </tr>\n",
              "    <tr>\n",
              "      <th>4</th>\n",
              "      <td>Augusta</td>\n",
              "      <td>GA</td>\n",
              "      <td>30000</td>\n",
              "      <td>200000</td>\n",
              "      <td>0.20</td>\n",
              "      <td>30.0</td>\n",
              "    </tr>\n",
              "    <tr>\n",
              "      <th>5</th>\n",
              "      <td>NYC</td>\n",
              "      <td>NY</td>\n",
              "      <td>60000</td>\n",
              "      <td>6000000</td>\n",
              "      <td>6.00</td>\n",
              "      <td>60.0</td>\n",
              "    </tr>\n",
              "    <tr>\n",
              "      <th>6</th>\n",
              "      <td>Buffalo</td>\n",
              "      <td>NY</td>\n",
              "      <td>57000</td>\n",
              "      <td>3000000</td>\n",
              "      <td>3.00</td>\n",
              "      <td>57.0</td>\n",
              "    </tr>\n",
              "    <tr>\n",
              "      <th>7</th>\n",
              "      <td>Albany</td>\n",
              "      <td>NY</td>\n",
              "      <td>56000</td>\n",
              "      <td>400000</td>\n",
              "      <td>0.40</td>\n",
              "      <td>56.0</td>\n",
              "    </tr>\n",
              "    <tr>\n",
              "      <th>8</th>\n",
              "      <td>Miami</td>\n",
              "      <td>FL</td>\n",
              "      <td>65000</td>\n",
              "      <td>4000000</td>\n",
              "      <td>4.00</td>\n",
              "      <td>65.0</td>\n",
              "    </tr>\n",
              "    <tr>\n",
              "      <th>9</th>\n",
              "      <td>Tallahassee</td>\n",
              "      <td>FL</td>\n",
              "      <td>40000</td>\n",
              "      <td>5000000</td>\n",
              "      <td>5.00</td>\n",
              "      <td>40.0</td>\n",
              "    </tr>\n",
              "  </tbody>\n",
              "</table>\n",
              "</div>"
            ]
          },
          "metadata": {}
        }
      ],
      "execution_count": 18,
      "metadata": {}
    },
    {
      "cell_type": "markdown",
      "source": [
        "# Visualising data\n",
        "\n",
        "### Question\n",
        "\n",
        "Why do you think this is important for?"
      ],
      "metadata": {}
    },
    {
      "cell_type": "markdown",
      "source": [
        "We can display the plots in the notebook with the following command:\n",
        "    "
      ],
      "metadata": {}
    },
    {
      "cell_type": "code",
      "source": [
        "%pylab inline"
      ],
      "outputs": [
        {
          "output_type": "stream",
          "name": "stdout",
          "text": [
            "Populating the interactive namespace from numpy and matplotlib\n"
          ]
        }
      ],
      "execution_count": 19,
      "metadata": {}
    },
    {
      "cell_type": "markdown",
      "source": [
        "### Question\n",
        "\n",
        "From the discussion about Python libraries, what library may be useful here?\n",
        "\n",
        "Let us also import the matplotlib library:"
      ],
      "metadata": {}
    },
    {
      "cell_type": "code",
      "source": [
        "import matplotlib.pyplot as plt"
      ],
      "outputs": [],
      "execution_count": 20,
      "metadata": {}
    },
    {
      "cell_type": "code",
      "source": [
        "city_table['income_in_k'].plot(kind='bar')"
      ],
      "outputs": [
        {
          "output_type": "execute_result",
          "execution_count": 21,
          "data": {
            "text/plain": [
              "<matplotlib.axes._subplots.AxesSubplot at 0x11d5f79d0>"
            ]
          },
          "metadata": {}
        },
        {
          "output_type": "display_data",
          "data": {
            "text/plain": [
              "<Figure size 432x288 with 1 Axes>"
            ],
            "image/png": "[encoded data removed]"
          },
          "metadata": {
            "needs_background": "light"
          }
        }
      ],
      "execution_count": 21,
      "metadata": {}
    },
    {
      "cell_type": "code",
      "source": [],
      "outputs": [],
      "execution_count": 22,
      "metadata": {}
    }
  ],
  "metadata": {
    "anaconda-cloud": {},
    "kernelspec": {
      "name": "python3",
      "language": "python",
      "display_name": "Python 3"
    },
    "language_info": {
      "name": "python",
      "version": "3.7.5",
      "mimetype": "text/x-python",
      "codemirror_mode": {
        "name": "ipython",
        "version": 3
      },
      "pygments_lexer": "ipython3",
      "nbconvert_exporter": "python",
      "file_extension": ".py"
    },
    "kernel_info": {
      "name": "python3"
    },
    "nteract": {
      "version": "0.15.0"
    }
  },
  "nbformat": 4,
  "nbformat_minor": 1
}