{
  "cells": [
    {
      "cell_type": "markdown",
      "source": [
        "# Intro to - Independent Practice"
      ],
      "metadata": {}
    },
    {
      "cell_type": "markdown",
      "source": [
        "Dr J Rogel-Salazar\n"
      ],
      "metadata": {}
    },
    {
      "cell_type": "markdown",
      "source": [
        "For the independent practice we will use the Iris dataset. \n",
        "\n",
        "The Iris dataset was first introduced by Ronald Fisher in his 1936 paper \"The use of multiple measurements in taxonomic problems\" as an example of linear discriminant analysis. It has become a cannonical example in machine learning and data mining circles. \n",
        "\n",
        "The data set consists of 50 samples from each of three species of Iris flowers (Iris setosa, Iris virginica and Iris versicolor). Four features were measured from each sample: the length and the width of the sepals and petals, in centimetres. Based on the combination of these four features, Fisher developed a linear discriminant model to distinguish the species from each other."
      ],
      "metadata": {}
    },
    {
      "cell_type": "markdown",
      "source": [
        "# Your Task\n",
        "\n",
        "Based on the demo we saw just before, change the blanks (_\\_____) with appropriate code to achieve the desired output"
      ],
      "metadata": {}
    },
    {
      "cell_type": "markdown",
      "source": [
        "Let us load some libraries and modules that will be of use later on:"
      ],
      "metadata": {}
    },
    {
      "cell_type": "code",
      "source": [
        "%pylab _____\n",
        "import numpy as _____\n",
        "import _____ as pd\n",
        "import _____._____ as plt"
      ],
      "outputs": [],
      "execution_count": null,
      "metadata": {}
    },
    {
      "cell_type": "markdown",
      "source": [
        "We can load the dataset by reading the comma-separated value (CSV) file directly into a pandas data frame. We can do this with the help of `read_csv`:"
      ],
      "metadata": {}
    },
    {
      "cell_type": "code",
      "source": [
        "iris_data = pd.read_csv('./data/iris.csv') "
      ],
      "outputs": [],
      "execution_count": null,
      "metadata": {
        "collapsed": true
      }
    },
    {
      "cell_type": "markdown",
      "source": [
        "#### Show the first six records"
      ],
      "metadata": {}
    },
    {
      "cell_type": "code",
      "source": [
        "iris_data._____()"
      ],
      "outputs": [],
      "execution_count": null,
      "metadata": {}
    },
    {
      "cell_type": "markdown",
      "source": [
        "Let us see how many records and fields we have in the dataset"
      ],
      "metadata": {}
    },
    {
      "cell_type": "code",
      "source": [
        "iris_data._____"
      ],
      "outputs": [],
      "execution_count": null,
      "metadata": {}
    },
    {
      "cell_type": "markdown",
      "source": [
        "Information in a dataframe can be sliced and diced using syntax that we are already familiar with. \n",
        "\n",
        "For example we can select the first 10 records for the fields `sepal width` and `sepal_length` as follows:"
      ],
      "metadata": {}
    },
    {
      "cell_type": "code",
      "source": [
        "iris_data[_____:_____][['_____', '_____' ]]"
      ],
      "outputs": [],
      "execution_count": null,
      "metadata": {}
    },
    {
      "cell_type": "markdown",
      "source": [
        "We can sort the dataframe too!\n",
        "\n",
        "Let us sort the iris records by descending value of the `sepal_lenth` column:"
      ],
      "metadata": {}
    },
    {
      "cell_type": "code",
      "source": [
        "#  Sort the data by sepal_width \n",
        "iris_data.sort_values('_____',ascending=_____)"
      ],
      "outputs": [],
      "execution_count": null,
      "metadata": {}
    },
    {
      "cell_type": "markdown",
      "source": [
        "Pandas lets us see a description of numerical fields with the applucation of the `describe` method:"
      ],
      "metadata": {}
    },
    {
      "cell_type": "code",
      "source": [
        "# Summarise the data \n",
        "iris_data._____()"
      ],
      "outputs": [],
      "execution_count": null,
      "metadata": {}
    },
    {
      "cell_type": "markdown",
      "source": [
        "We can extract more information from the data by grouping information. \n",
        "\n",
        "We can for example group the iris records by the species of each of the flowers. This can be done with the help of the `groupby` method:"
      ],
      "metadata": {}
    },
    {
      "cell_type": "code",
      "source": [
        "# Now let's group the data by the species \n",
        "byspecies = iris_data.groupby('species') "
      ],
      "outputs": [],
      "execution_count": null,
      "metadata": {
        "collapsed": true
      }
    },
    {
      "cell_type": "markdown",
      "source": [
        "Use the `describe` method to compare the statatistics for each of the groups (species)"
      ],
      "metadata": {}
    },
    {
      "cell_type": "code",
      "source": [
        "byspecies._____()"
      ],
      "outputs": [],
      "execution_count": null,
      "metadata": {}
    },
    {
      "cell_type": "markdown",
      "source": [
        "Let su now apply a function by a group (remember each group is a species)"
      ],
      "metadata": {}
    },
    {
      "cell_type": "code",
      "source": [
        "byspecies['petal_length'].mean()"
      ],
      "outputs": [],
      "execution_count": null,
      "metadata": {}
    },
    {
      "cell_type": "markdown",
      "source": [
        "You can try now other functions apart from mean; for example max, median, etc "
      ],
      "metadata": {}
    },
    {
      "cell_type": "markdown",
      "source": [
        "# Visualising the data"
      ],
      "metadata": {}
    },
    {
      "cell_type": "markdown",
      "source": [
        "Use the `hist` method to visualise the data requested:"
      ],
      "metadata": {}
    },
    {
      "cell_type": "code",
      "source": [
        "iris_data.loc[iris_data['species'] == 'setosa', 'sepal_width']._____()"
      ],
      "outputs": [],
      "execution_count": null,
      "metadata": {}
    }
  ],
  "metadata": {
    "anaconda-cloud": {},
    "kernelspec": {
      "name": "python3",
      "language": "python",
      "display_name": "Python 3"
    },
    "language_info": {
      "name": "python",
      "version": "3.7.5",
      "mimetype": "text/x-python",
      "codemirror_mode": {
        "name": "ipython",
        "version": 3
      },
      "pygments_lexer": "ipython3",
      "nbconvert_exporter": "python",
      "file_extension": ".py"
    },
    "kernel_info": {
      "name": "python3"
    },
    "nteract": {
      "version": "0.15.0"
    }
  },
  "nbformat": 4,
  "nbformat_minor": 1
}